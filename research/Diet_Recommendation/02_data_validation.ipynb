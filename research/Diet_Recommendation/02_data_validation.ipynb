{
 "cells": [
  {
   "cell_type": "code",
   "execution_count": 1,
   "metadata": {},
   "outputs": [],
   "source": [
    "import os"
   ]
  },
  {
   "cell_type": "code",
   "execution_count": 2,
   "metadata": {},
   "outputs": [
    {
     "data": {
      "text/plain": [
       "'d:\\\\Nikku\\\\End to End Project\\\\Healthy.ai\\\\research\\\\Diet_Recommendation'"
      ]
     },
     "execution_count": 2,
     "metadata": {},
     "output_type": "execute_result"
    }
   ],
   "source": [
    "%pwd"
   ]
  },
  {
   "cell_type": "code",
   "execution_count": 5,
   "metadata": {},
   "outputs": [],
   "source": [
    "os.chdir(\"../\")"
   ]
  },
  {
   "cell_type": "code",
   "execution_count": 6,
   "metadata": {},
   "outputs": [
    {
     "data": {
      "text/plain": [
       "'d:\\\\Nikku\\\\End to End Project\\\\Healthy.ai'"
      ]
     },
     "execution_count": 6,
     "metadata": {},
     "output_type": "execute_result"
    }
   ],
   "source": [
    "%pwd"
   ]
  },
  {
   "cell_type": "code",
   "execution_count": 7,
   "metadata": {},
   "outputs": [],
   "source": [
    "import pandas as pd"
   ]
  },
  {
   "cell_type": "code",
   "execution_count": 13,
   "metadata": {},
   "outputs": [
    {
     "name": "stderr",
     "output_type": "stream",
     "text": [
      "<>:1: SyntaxWarning: invalid escape sequence '\\d'\n",
      "<>:1: SyntaxWarning: invalid escape sequence '\\d'\n",
      "C:\\Users\\akash\\AppData\\Local\\Temp\\ipykernel_13956\\373687862.py:1: SyntaxWarning: invalid escape sequence '\\d'\n",
      "  df = pd.read_csv('artifacts\\diet_recomendation\\data_ingestion\\diet_recommendation.csv')\n"
     ]
    }
   ],
   "source": [
    "df = pd.read_csv('artifacts\\diet_recomendation\\data_ingestion\\diet_recommendation.csv')"
   ]
  },
  {
   "cell_type": "code",
   "execution_count": 14,
   "metadata": {},
   "outputs": [
    {
     "data": {
      "text/html": [
       "<div>\n",
       "<style scoped>\n",
       "    .dataframe tbody tr th:only-of-type {\n",
       "        vertical-align: middle;\n",
       "    }\n",
       "\n",
       "    .dataframe tbody tr th {\n",
       "        vertical-align: top;\n",
       "    }\n",
       "\n",
       "    .dataframe thead th {\n",
       "        text-align: right;\n",
       "    }\n",
       "</style>\n",
       "<table border=\"1\" class=\"dataframe\">\n",
       "  <thead>\n",
       "    <tr style=\"text-align: right;\">\n",
       "      <th></th>\n",
       "      <th>Breakfast</th>\n",
       "      <th>Lunch</th>\n",
       "      <th>Snacks</th>\n",
       "      <th>Dinner</th>\n",
       "      <th>Calories</th>\n",
       "      <th>Carbs</th>\n",
       "      <th>Total Fat</th>\n",
       "      <th>Saturated Fat</th>\n",
       "      <th>Protein</th>\n",
       "      <th>Fiber</th>\n",
       "      <th>...</th>\n",
       "      <th>Magnesium</th>\n",
       "      <th>Phosphorus</th>\n",
       "      <th>Vitamin C</th>\n",
       "      <th>Vitamin A</th>\n",
       "      <th>Calcium</th>\n",
       "      <th>Iron</th>\n",
       "      <th>Zinc</th>\n",
       "      <th>Vitamin E</th>\n",
       "      <th>Vitamin K</th>\n",
       "      <th>food_items</th>\n",
       "    </tr>\n",
       "  </thead>\n",
       "  <tbody>\n",
       "    <tr>\n",
       "      <th>0</th>\n",
       "      <td>1</td>\n",
       "      <td>0</td>\n",
       "      <td>1</td>\n",
       "      <td>0</td>\n",
       "      <td>94.64</td>\n",
       "      <td>25.48</td>\n",
       "      <td>0.364</td>\n",
       "      <td>0.182</td>\n",
       "      <td>0.546</td>\n",
       "      <td>4.368</td>\n",
       "      <td>...</td>\n",
       "      <td>9.10</td>\n",
       "      <td>20.02</td>\n",
       "      <td>8.372</td>\n",
       "      <td>10.92</td>\n",
       "      <td>0.3276</td>\n",
       "      <td>4.004</td>\n",
       "      <td>10.92</td>\n",
       "      <td>0.1820</td>\n",
       "      <td>0.0910</td>\n",
       "      <td>Apple</td>\n",
       "    </tr>\n",
       "    <tr>\n",
       "      <th>1</th>\n",
       "      <td>1</td>\n",
       "      <td>0</td>\n",
       "      <td>1</td>\n",
       "      <td>0</td>\n",
       "      <td>26.40</td>\n",
       "      <td>6.05</td>\n",
       "      <td>0.220</td>\n",
       "      <td>0.000</td>\n",
       "      <td>0.770</td>\n",
       "      <td>1.100</td>\n",
       "      <td>...</td>\n",
       "      <td>5.50</td>\n",
       "      <td>12.65</td>\n",
       "      <td>5.500</td>\n",
       "      <td>1059.30</td>\n",
       "      <td>0.4895</td>\n",
       "      <td>1.705</td>\n",
       "      <td>7.15</td>\n",
       "      <td>0.2145</td>\n",
       "      <td>0.1100</td>\n",
       "      <td>Apricot</td>\n",
       "    </tr>\n",
       "    <tr>\n",
       "      <th>2</th>\n",
       "      <td>1</td>\n",
       "      <td>0</td>\n",
       "      <td>1</td>\n",
       "      <td>0</td>\n",
       "      <td>48.00</td>\n",
       "      <td>2.70</td>\n",
       "      <td>0.600</td>\n",
       "      <td>0.090</td>\n",
       "      <td>0.600</td>\n",
       "      <td>0.600</td>\n",
       "      <td>...</td>\n",
       "      <td>8.70</td>\n",
       "      <td>15.60</td>\n",
       "      <td>3.000</td>\n",
       "      <td>2.10</td>\n",
       "      <td>0.6210</td>\n",
       "      <td>6.300</td>\n",
       "      <td>3.60</td>\n",
       "      <td>0.1800</td>\n",
       "      <td>0.1800</td>\n",
       "      <td>Avocado</td>\n",
       "    </tr>\n",
       "    <tr>\n",
       "      <th>3</th>\n",
       "      <td>1</td>\n",
       "      <td>0</td>\n",
       "      <td>1</td>\n",
       "      <td>0</td>\n",
       "      <td>105.02</td>\n",
       "      <td>27.14</td>\n",
       "      <td>0.354</td>\n",
       "      <td>0.118</td>\n",
       "      <td>1.298</td>\n",
       "      <td>3.068</td>\n",
       "      <td>...</td>\n",
       "      <td>31.86</td>\n",
       "      <td>25.96</td>\n",
       "      <td>10.266</td>\n",
       "      <td>1.18</td>\n",
       "      <td>0.1180</td>\n",
       "      <td>0.590</td>\n",
       "      <td>5.90</td>\n",
       "      <td>0.3540</td>\n",
       "      <td>0.1770</td>\n",
       "      <td>Banana</td>\n",
       "    </tr>\n",
       "    <tr>\n",
       "      <th>4</th>\n",
       "      <td>1</td>\n",
       "      <td>0</td>\n",
       "      <td>1</td>\n",
       "      <td>0</td>\n",
       "      <td>71.50</td>\n",
       "      <td>17.16</td>\n",
       "      <td>0.715</td>\n",
       "      <td>0.000</td>\n",
       "      <td>1.430</td>\n",
       "      <td>4.290</td>\n",
       "      <td>...</td>\n",
       "      <td>41.47</td>\n",
       "      <td>42.90</td>\n",
       "      <td>41.899</td>\n",
       "      <td>1258.40</td>\n",
       "      <td>2.4310</td>\n",
       "      <td>1.287</td>\n",
       "      <td>77.22</td>\n",
       "      <td>2.2880</td>\n",
       "      <td>1.0868</td>\n",
       "      <td>Black Chokeberry</td>\n",
       "    </tr>\n",
       "  </tbody>\n",
       "</table>\n",
       "<p>5 rows × 24 columns</p>\n",
       "</div>"
      ],
      "text/plain": [
       "   Breakfast  Lunch  Snacks  Dinner  Calories  Carbs  Total Fat  \\\n",
       "0          1      0       1       0     94.64  25.48      0.364   \n",
       "1          1      0       1       0     26.40   6.05      0.220   \n",
       "2          1      0       1       0     48.00   2.70      0.600   \n",
       "3          1      0       1       0    105.02  27.14      0.354   \n",
       "4          1      0       1       0     71.50  17.16      0.715   \n",
       "\n",
       "   Saturated Fat  Protein  Fiber  ...  Magnesium  Phosphorus  Vitamin C  \\\n",
       "0          0.182    0.546  4.368  ...       9.10       20.02      8.372   \n",
       "1          0.000    0.770  1.100  ...       5.50       12.65      5.500   \n",
       "2          0.090    0.600  0.600  ...       8.70       15.60      3.000   \n",
       "3          0.118    1.298  3.068  ...      31.86       25.96     10.266   \n",
       "4          0.000    1.430  4.290  ...      41.47       42.90     41.899   \n",
       "\n",
       "   Vitamin A  Calcium   Iron   Zinc  Vitamin E  Vitamin K        food_items  \n",
       "0      10.92   0.3276  4.004  10.92     0.1820     0.0910             Apple  \n",
       "1    1059.30   0.4895  1.705   7.15     0.2145     0.1100           Apricot  \n",
       "2       2.10   0.6210  6.300   3.60     0.1800     0.1800           Avocado  \n",
       "3       1.18   0.1180  0.590   5.90     0.3540     0.1770            Banana  \n",
       "4    1258.40   2.4310  1.287  77.22     2.2880     1.0868  Black Chokeberry  \n",
       "\n",
       "[5 rows x 24 columns]"
      ]
     },
     "execution_count": 14,
     "metadata": {},
     "output_type": "execute_result"
    }
   ],
   "source": [
    "df.head()"
   ]
  },
  {
   "cell_type": "code",
   "execution_count": 15,
   "metadata": {},
   "outputs": [
    {
     "data": {
      "text/plain": [
       "Breakfast        0\n",
       "Lunch            0\n",
       "Snacks           0\n",
       "Dinner           0\n",
       "Calories         0\n",
       "Carbs            0\n",
       "Total Fat        0\n",
       "Saturated Fat    0\n",
       "Protein          0\n",
       "Fiber            0\n",
       "Cholesterol      0\n",
       "Sodium           0\n",
       "Sugar            0\n",
       "Potassium        0\n",
       "Magnesium        0\n",
       "Phosphorus       0\n",
       "Vitamin C        0\n",
       "Vitamin A        0\n",
       "Calcium          1\n",
       "Iron             0\n",
       "Zinc             0\n",
       "Vitamin E        0\n",
       "Vitamin K        0\n",
       "food_items       0\n",
       "dtype: int64"
      ]
     },
     "execution_count": 15,
     "metadata": {},
     "output_type": "execute_result"
    }
   ],
   "source": [
    "df.isnull().sum()"
   ]
  },
  {
   "cell_type": "code",
   "execution_count": 16,
   "metadata": {},
   "outputs": [
    {
     "data": {
      "text/plain": [
       "0"
      ]
     },
     "execution_count": 16,
     "metadata": {},
     "output_type": "execute_result"
    }
   ],
   "source": [
    "df.duplicated().sum()"
   ]
  },
  {
   "cell_type": "code",
   "execution_count": 17,
   "metadata": {},
   "outputs": [
    {
     "data": {
      "text/plain": [
       "Index(['Breakfast', 'Lunch', 'Snacks', 'Dinner', 'Calories', 'Carbs',\n",
       "       'Total Fat', 'Saturated Fat', 'Protein', 'Fiber', 'Cholesterol',\n",
       "       'Sodium', 'Sugar', 'Potassium', 'Magnesium', 'Phosphorus', 'Vitamin C',\n",
       "       'Vitamin A', 'Calcium', 'Iron', 'Zinc', 'Vitamin E', 'Vitamin K',\n",
       "       'food_items'],\n",
       "      dtype='object')"
      ]
     },
     "execution_count": 17,
     "metadata": {},
     "output_type": "execute_result"
    }
   ],
   "source": [
    "df.columns"
   ]
  },
  {
   "cell_type": "code",
   "execution_count": 18,
   "metadata": {},
   "outputs": [
    {
     "name": "stdout",
     "output_type": "stream",
     "text": [
      "<class 'pandas.core.frame.DataFrame'>\n",
      "RangeIndex: 717 entries, 0 to 716\n",
      "Data columns (total 24 columns):\n",
      " #   Column         Non-Null Count  Dtype  \n",
      "---  ------         --------------  -----  \n",
      " 0   Breakfast      717 non-null    int64  \n",
      " 1   Lunch          717 non-null    int64  \n",
      " 2   Snacks         717 non-null    int64  \n",
      " 3   Dinner         717 non-null    int64  \n",
      " 4   Calories       717 non-null    float64\n",
      " 5   Carbs          717 non-null    float64\n",
      " 6   Total Fat      717 non-null    float64\n",
      " 7   Saturated Fat  717 non-null    float64\n",
      " 8   Protein        717 non-null    float64\n",
      " 9   Fiber          717 non-null    float64\n",
      " 10  Cholesterol    717 non-null    float64\n",
      " 11  Sodium         717 non-null    float64\n",
      " 12  Sugar          717 non-null    float64\n",
      " 13  Potassium      717 non-null    float64\n",
      " 14  Magnesium      717 non-null    float64\n",
      " 15  Phosphorus     717 non-null    float64\n",
      " 16  Vitamin C      717 non-null    float64\n",
      " 17  Vitamin A      717 non-null    float64\n",
      " 18  Calcium        716 non-null    float64\n",
      " 19  Iron           717 non-null    float64\n",
      " 20  Zinc           717 non-null    float64\n",
      " 21  Vitamin E      717 non-null    float64\n",
      " 22  Vitamin K      717 non-null    float64\n",
      " 23  food_items     717 non-null    object \n",
      "dtypes: float64(19), int64(4), object(1)\n",
      "memory usage: 134.6+ KB\n"
     ]
    }
   ],
   "source": [
    "df.info()"
   ]
  },
  {
   "cell_type": "markdown",
   "metadata": {},
   "source": [
    "## Entity"
   ]
  },
  {
   "cell_type": "code",
   "execution_count": 19,
   "metadata": {},
   "outputs": [],
   "source": [
    "from dataclasses import dataclass\n",
    "from pathlib import Path\n",
    "\n",
    "\n",
    "@dataclass(frozen=True)\n",
    "class DietRecomenedDataValidationConfig:\n",
    "    root_dir: Path\n",
    "    STATUS_FILE: str\n",
    "    unzip_data_dir: Path\n",
    "    all_schema: dict\n",
    "    "
   ]
  },
  {
   "cell_type": "markdown",
   "metadata": {},
   "source": [
    "## Configuration Manager"
   ]
  },
  {
   "cell_type": "code",
   "execution_count": 20,
   "metadata": {},
   "outputs": [],
   "source": [
    "from Healthyai.constants import *\n",
    "from Healthyai.utils.common import read_yaml,create_directories"
   ]
  },
  {
   "cell_type": "code",
   "execution_count": 21,
   "metadata": {},
   "outputs": [],
   "source": [
    "class ConfigurationManager:\n",
    "    def __init__(\n",
    "        self,\n",
    "        config_filepath = CONFIG_FILE_PATH,\n",
    "        params_filepath = PARAMS_FILE_PATH,\n",
    "        schema_filepath = SCHEMA_FILE_PATH):\n",
    "        \n",
    "        self.config = read_yaml(config_filepath)\n",
    "        self.params = read_yaml(params_filepath)\n",
    "        self.schema = read_yaml(schema_filepath)\n",
    "        \n",
    "        create_directories([self.config.artifacts])\n",
    "        \n",
    "    \n",
    "    def get_data_validation_config_diet_recommednation(self) ->DietRecomenedDataValidationConfig:\n",
    "        config = self.config.diet_recommendation_data_validation\n",
    "        schema = self.schema.COLUMNS\n",
    "        \n",
    "        create_directories([config.root_dir])\n",
    "        \n",
    "        data_validation_config = DietRecomenedDataValidationConfig(\n",
    "            root_dir = config.root_dir,\n",
    "            STATUS_FILE = config.STATUS_FILE,\n",
    "            unzip_data_dir = config.unzip_data_dir,\n",
    "            all_schema = schema\n",
    "        )\n",
    "        return data_validation_config"
   ]
  },
  {
   "cell_type": "markdown",
   "metadata": {},
   "source": [
    "##  Components"
   ]
  },
  {
   "cell_type": "code",
   "execution_count": 22,
   "metadata": {},
   "outputs": [],
   "source": [
    "import os\n",
    "from Healthyai import logger"
   ]
  },
  {
   "cell_type": "code",
   "execution_count": 23,
   "metadata": {},
   "outputs": [],
   "source": [
    "class DataValidation:\n",
    "    def __init__(self, config: DietRecomenedDataValidationConfig):\n",
    "        self.config = config\n",
    "     \n",
    "    # Checking all columns are present in the dataset\n",
    "    \n",
    "    def validate_all_columns(self) -> bool:\n",
    "        try:\n",
    "            validation_status = None\n",
    "            data = pd.read_csv(self.config.unzip_data_dir)\n",
    "            all_col = list(data.columns)\n",
    "            all_schema = self.config.all_schema.keys()\n",
    "            \n",
    "            for col in all_col:\n",
    "                if col not in all_schema:\n",
    "                    validation_status = False\n",
    "                    with open(self.config.STATUS_FILE,'w') as f:\n",
    "                        f.write(f\"validation status : {validation_status}\")\n",
    "                else:\n",
    "                    validation_status =True\n",
    "                    with open(self.config.STATUS_FILE,'w') as f:\n",
    "                        f.write(f\"validation status : {validation_status}\")\n",
    "            return validation_status\n",
    "        \n",
    "        except Exception as e:\n",
    "            raise e\n",
    "            \n",
    "           \n",
    "    \n",
    "        "
   ]
  },
  {
   "cell_type": "markdown",
   "metadata": {},
   "source": [
    "## Pipeline"
   ]
  },
  {
   "cell_type": "code",
   "execution_count": 27,
   "metadata": {},
   "outputs": [
    {
     "name": "stdout",
     "output_type": "stream",
     "text": [
      "[2023-12-05 17:43:47,115: INFO: common: yaml file: config\\config.yaml loaded successfully]\n",
      "[2023-12-05 17:43:47,119: INFO: common: yaml file: params.yaml loaded successfully]\n",
      "[2023-12-05 17:43:47,121: INFO: common: yaml file: schema.yaml loaded successfully]\n",
      "[2023-12-05 17:43:47,122: INFO: common: Created directory at : artifacts]\n",
      "[2023-12-05 17:43:47,123: INFO: common: Created directory at : artifacts/diet_recomendation/data_validation]\n"
     ]
    }
   ],
   "source": [
    "try:\n",
    "    config = ConfigurationManager()\n",
    "    data_validation_config = config.get_data_validation_config_diet_recommednation()\n",
    "    data_validation = DataValidation(config=data_validation_config)\n",
    "    data_validation.validate_all_columns()\n",
    "except Exception as e:\n",
    "    raise e"
   ]
  },
  {
   "cell_type": "code",
   "execution_count": null,
   "metadata": {},
   "outputs": [],
   "source": []
  }
 ],
 "metadata": {
  "kernelspec": {
   "display_name": "healthyai",
   "language": "python",
   "name": "python3"
  },
  "language_info": {
   "codemirror_mode": {
    "name": "ipython",
    "version": 3
   },
   "file_extension": ".py",
   "mimetype": "text/x-python",
   "name": "python",
   "nbconvert_exporter": "python",
   "pygments_lexer": "ipython3",
   "version": "3.10.13"
  }
 },
 "nbformat": 4,
 "nbformat_minor": 2
}
