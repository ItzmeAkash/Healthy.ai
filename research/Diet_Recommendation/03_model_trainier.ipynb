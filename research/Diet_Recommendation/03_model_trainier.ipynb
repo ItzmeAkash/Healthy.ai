{
 "cells": [
  {
   "cell_type": "code",
   "execution_count": 1,
   "metadata": {},
   "outputs": [],
   "source": [
    "import os"
   ]
  },
  {
   "cell_type": "code",
   "execution_count": 2,
   "metadata": {},
   "outputs": [
    {
     "data": {
      "text/plain": [
       "'d:\\\\Nikku\\\\End to End Project\\\\Healthy.ai\\\\research\\\\Diet_Recommendation'"
      ]
     },
     "execution_count": 2,
     "metadata": {},
     "output_type": "execute_result"
    }
   ],
   "source": [
    "%pwd"
   ]
  },
  {
   "cell_type": "code",
   "execution_count": 4,
   "metadata": {},
   "outputs": [],
   "source": [
    "os.chdir(\"../\")"
   ]
  },
  {
   "cell_type": "code",
   "execution_count": 5,
   "metadata": {},
   "outputs": [
    {
     "data": {
      "text/plain": [
       "'d:\\\\Nikku\\\\End to End Project\\\\Healthy.ai'"
      ]
     },
     "execution_count": 5,
     "metadata": {},
     "output_type": "execute_result"
    }
   ],
   "source": [
    "%pwd"
   ]
  },
  {
   "cell_type": "markdown",
   "metadata": {},
   "source": [
    "## Entity"
   ]
  },
  {
   "cell_type": "code",
   "execution_count": 6,
   "metadata": {},
   "outputs": [],
   "source": [
    "from dataclasses import dataclass\n",
    "from pathlib import Path\n",
    "\n",
    "\n",
    "@dataclass(frozen=True)\n",
    "class DietRecomdModelTrainerConfig:\n",
    "    root_dir: Path\n",
    "    data_path: Path\n",
    "    model_name: str\n",
    "    n_clusters: int\n",
    "    target_column: float"
   ]
  },
  {
   "cell_type": "markdown",
   "metadata": {},
   "source": [
    "## Configuration Manager"
   ]
  },
  {
   "cell_type": "code",
   "execution_count": 7,
   "metadata": {},
   "outputs": [],
   "source": [
    "from Healthyai.constants import *\n",
    "from Healthyai.utils.common import read_yaml, create_directories\n"
   ]
  },
  {
   "cell_type": "code",
   "execution_count": 8,
   "metadata": {},
   "outputs": [],
   "source": [
    "class ConfigurationManager:\n",
    "    def __init__(\n",
    "        self,\n",
    "        config_filepath = CONFIG_FILE_PATH,\n",
    "        params_filepath = PARAMS_FILE_PATH,\n",
    "        schema_filepath = SCHEMA_FILE_PATH):\n",
    "        \n",
    "        self.config = read_yaml(config_filepath)\n",
    "        self.params = read_yaml(params_filepath)\n",
    "        self.schema = read_yaml(schema_filepath)\n",
    "        \n",
    "        create_directories([self.config.artifacts])\n",
    "        \n",
    "    def diet_recommend_model_trainer_config(self) -> DietRecomdModelTrainerConfig:\n",
    "        config = self.config.diet_recommendation_model_trainer\n",
    "        params = self.params.KMeans\n",
    "        schema = self.schema.COLUMNS\n",
    "        \n",
    "        \n",
    "        create_directories([config.root_dir])\n",
    "        \n",
    "        \n",
    "        model_trainer_config = DietRecomdModelTrainerConfig(\n",
    "            root_dir=config.root_dir,\n",
    "            data_path = config.data_path,\n",
    "            model_name= config.model_name,\n",
    "            n_clusters=params.n_clusters,\n",
    "            target_column=schema.Calories\n",
    "        )\n",
    "        return model_trainer_config"
   ]
  },
  {
   "cell_type": "markdown",
   "metadata": {},
   "source": [
    "## Components"
   ]
  },
  {
   "cell_type": "code",
   "execution_count": 9,
   "metadata": {},
   "outputs": [],
   "source": [
    "import pandas as pd\n",
    "import numpy as np\n",
    "import os\n",
    "from Healthyai import logger\n",
    "from sklearn.cluster import KMeans\n",
    "import joblib\n"
   ]
  },
  {
   "cell_type": "code",
   "execution_count": 10,
   "metadata": {},
   "outputs": [],
   "source": [
    "class DietModelTrainer:\n",
    "    def __init__(self, config: DietRecomdModelTrainerConfig):\n",
    "        self.config = config\n",
    "        \n",
    "    def train(self):\n",
    "        data = pd.read_csv(self.config.data_path, index_col=0)\n",
    "        # print(data.head())\n",
    "        # print(data['Calories'])\n",
    "        train_data = data[\"Calories\"]\n",
    "        \n",
    "        kmeans = KMeans(n_clusters=self.config.n_clusters, random_state= 42)\n",
    "        kmeans.fit(np.array(train_data).reshape(-1,1))\n",
    "        \n",
    "        joblib.dump(kmeans,os.path.join(self.config.root_dir, self.config.model_name))\n",
    "        \n",
    "        "
   ]
  },
  {
   "cell_type": "markdown",
   "metadata": {},
   "source": [
    "## pipeline"
   ]
  },
  {
   "cell_type": "code",
   "execution_count": 11,
   "metadata": {},
   "outputs": [
    {
     "name": "stdout",
     "output_type": "stream",
     "text": [
      "[2024-02-03 12:18:05,367: INFO: common: yaml file: config\\config.yaml loaded successfully]\n",
      "[2024-02-03 12:18:05,369: INFO: common: yaml file: params.yaml loaded successfully]\n",
      "[2024-02-03 12:18:05,375: INFO: common: yaml file: schema.yaml loaded successfully]\n",
      "[2024-02-03 12:18:05,376: INFO: common: Created directory at : artifacts]\n",
      "[2024-02-03 12:18:05,376: INFO: common: Created directory at : artifacts/diet_recomendation/model_trainer]\n"
     ]
    },
    {
     "name": "stderr",
     "output_type": "stream",
     "text": [
      "c:\\Users\\akash\\anaconda3\\envs\\healthyai\\lib\\site-packages\\sklearn\\cluster\\_kmeans.py:1416: FutureWarning: The default value of `n_init` will change from 10 to 'auto' in 1.4. Set the value of `n_init` explicitly to suppress the warning\n",
      "  super()._check_params_vs_input(X, default_n_init=10)\n",
      "c:\\Users\\akash\\anaconda3\\envs\\healthyai\\lib\\site-packages\\joblib\\externals\\loky\\backend\\context.py:136: UserWarning: Could not find the number of physical cores for the following reason:\n",
      "found 0 physical cores < 1\n",
      "Returning the number of logical cores instead. You can silence this warning by setting LOKY_MAX_CPU_COUNT to the number of cores you want to use.\n",
      "  warnings.warn(\n",
      "  File \"c:\\Users\\akash\\anaconda3\\envs\\healthyai\\lib\\site-packages\\joblib\\externals\\loky\\backend\\context.py\", line 282, in _count_physical_cores\n",
      "    raise ValueError(f\"found {cpu_count_physical} physical cores < 1\")\n"
     ]
    }
   ],
   "source": [
    "try:\n",
    "    config = ConfigurationManager()\n",
    "    model_trainer_config = config.diet_recommend_model_trainer_config()\n",
    "    model_trainer_config = DietModelTrainer(config = model_trainer_config)\n",
    "    model_trainer_config.train()\n",
    "except Exception as e:\n",
    "    raise e"
   ]
  },
  {
   "cell_type": "markdown",
   "metadata": {},
   "source": [
    "## Testing"
   ]
  },
  {
   "cell_type": "code",
   "execution_count": 12,
   "metadata": {},
   "outputs": [],
   "source": [
    "model = joblib.load('artifacts/diet_recomendation/model_trainer/model.joblib')"
   ]
  },
  {
   "cell_type": "code",
   "execution_count": 22,
   "metadata": {},
   "outputs": [],
   "source": [
    "df = pd.read_csv(\"artifacts/diet_recomendation/data_ingestion/diet_recommendation.csv\")"
   ]
  },
  {
   "cell_type": "code",
   "execution_count": 23,
   "metadata": {},
   "outputs": [
    {
     "data": {
      "text/html": [
       "<div>\n",
       "<style scoped>\n",
       "    .dataframe tbody tr th:only-of-type {\n",
       "        vertical-align: middle;\n",
       "    }\n",
       "\n",
       "    .dataframe tbody tr th {\n",
       "        vertical-align: top;\n",
       "    }\n",
       "\n",
       "    .dataframe thead th {\n",
       "        text-align: right;\n",
       "    }\n",
       "</style>\n",
       "<table border=\"1\" class=\"dataframe\">\n",
       "  <thead>\n",
       "    <tr style=\"text-align: right;\">\n",
       "      <th></th>\n",
       "      <th>Breakfast</th>\n",
       "      <th>Lunch</th>\n",
       "      <th>Snacks</th>\n",
       "      <th>Dinner</th>\n",
       "      <th>Calories</th>\n",
       "      <th>Carbs</th>\n",
       "      <th>Total Fat</th>\n",
       "      <th>Saturated Fat</th>\n",
       "      <th>Protein</th>\n",
       "      <th>Fiber</th>\n",
       "      <th>...</th>\n",
       "      <th>Magnesium</th>\n",
       "      <th>Phosphorus</th>\n",
       "      <th>Vitamin C</th>\n",
       "      <th>Vitamin A</th>\n",
       "      <th>Calcium</th>\n",
       "      <th>Iron</th>\n",
       "      <th>Zinc</th>\n",
       "      <th>Vitamin E</th>\n",
       "      <th>Vitamin K</th>\n",
       "      <th>food_items</th>\n",
       "    </tr>\n",
       "  </thead>\n",
       "  <tbody>\n",
       "    <tr>\n",
       "      <th>0</th>\n",
       "      <td>1</td>\n",
       "      <td>0</td>\n",
       "      <td>1</td>\n",
       "      <td>0</td>\n",
       "      <td>94.64</td>\n",
       "      <td>25.48</td>\n",
       "      <td>0.364</td>\n",
       "      <td>0.182</td>\n",
       "      <td>0.546</td>\n",
       "      <td>4.368</td>\n",
       "      <td>...</td>\n",
       "      <td>9.10</td>\n",
       "      <td>20.02</td>\n",
       "      <td>8.372</td>\n",
       "      <td>10.92</td>\n",
       "      <td>0.3276</td>\n",
       "      <td>4.004</td>\n",
       "      <td>10.92</td>\n",
       "      <td>0.1820</td>\n",
       "      <td>0.0910</td>\n",
       "      <td>Apple</td>\n",
       "    </tr>\n",
       "    <tr>\n",
       "      <th>1</th>\n",
       "      <td>1</td>\n",
       "      <td>0</td>\n",
       "      <td>1</td>\n",
       "      <td>0</td>\n",
       "      <td>26.40</td>\n",
       "      <td>6.05</td>\n",
       "      <td>0.220</td>\n",
       "      <td>0.000</td>\n",
       "      <td>0.770</td>\n",
       "      <td>1.100</td>\n",
       "      <td>...</td>\n",
       "      <td>5.50</td>\n",
       "      <td>12.65</td>\n",
       "      <td>5.500</td>\n",
       "      <td>1059.30</td>\n",
       "      <td>0.4895</td>\n",
       "      <td>1.705</td>\n",
       "      <td>7.15</td>\n",
       "      <td>0.2145</td>\n",
       "      <td>0.1100</td>\n",
       "      <td>Apricot</td>\n",
       "    </tr>\n",
       "    <tr>\n",
       "      <th>2</th>\n",
       "      <td>1</td>\n",
       "      <td>0</td>\n",
       "      <td>1</td>\n",
       "      <td>0</td>\n",
       "      <td>48.00</td>\n",
       "      <td>2.70</td>\n",
       "      <td>0.600</td>\n",
       "      <td>0.090</td>\n",
       "      <td>0.600</td>\n",
       "      <td>0.600</td>\n",
       "      <td>...</td>\n",
       "      <td>8.70</td>\n",
       "      <td>15.60</td>\n",
       "      <td>3.000</td>\n",
       "      <td>2.10</td>\n",
       "      <td>0.6210</td>\n",
       "      <td>6.300</td>\n",
       "      <td>3.60</td>\n",
       "      <td>0.1800</td>\n",
       "      <td>0.1800</td>\n",
       "      <td>Avocado</td>\n",
       "    </tr>\n",
       "    <tr>\n",
       "      <th>3</th>\n",
       "      <td>1</td>\n",
       "      <td>0</td>\n",
       "      <td>1</td>\n",
       "      <td>0</td>\n",
       "      <td>105.02</td>\n",
       "      <td>27.14</td>\n",
       "      <td>0.354</td>\n",
       "      <td>0.118</td>\n",
       "      <td>1.298</td>\n",
       "      <td>3.068</td>\n",
       "      <td>...</td>\n",
       "      <td>31.86</td>\n",
       "      <td>25.96</td>\n",
       "      <td>10.266</td>\n",
       "      <td>1.18</td>\n",
       "      <td>0.1180</td>\n",
       "      <td>0.590</td>\n",
       "      <td>5.90</td>\n",
       "      <td>0.3540</td>\n",
       "      <td>0.1770</td>\n",
       "      <td>Banana</td>\n",
       "    </tr>\n",
       "    <tr>\n",
       "      <th>4</th>\n",
       "      <td>1</td>\n",
       "      <td>0</td>\n",
       "      <td>1</td>\n",
       "      <td>0</td>\n",
       "      <td>71.50</td>\n",
       "      <td>17.16</td>\n",
       "      <td>0.715</td>\n",
       "      <td>0.000</td>\n",
       "      <td>1.430</td>\n",
       "      <td>4.290</td>\n",
       "      <td>...</td>\n",
       "      <td>41.47</td>\n",
       "      <td>42.90</td>\n",
       "      <td>41.899</td>\n",
       "      <td>1258.40</td>\n",
       "      <td>2.4310</td>\n",
       "      <td>1.287</td>\n",
       "      <td>77.22</td>\n",
       "      <td>2.2880</td>\n",
       "      <td>1.0868</td>\n",
       "      <td>Black Chokeberry</td>\n",
       "    </tr>\n",
       "  </tbody>\n",
       "</table>\n",
       "<p>5 rows × 24 columns</p>\n",
       "</div>"
      ],
      "text/plain": [
       "   Breakfast  Lunch  Snacks  Dinner  Calories  Carbs  Total Fat  \\\n",
       "0          1      0       1       0     94.64  25.48      0.364   \n",
       "1          1      0       1       0     26.40   6.05      0.220   \n",
       "2          1      0       1       0     48.00   2.70      0.600   \n",
       "3          1      0       1       0    105.02  27.14      0.354   \n",
       "4          1      0       1       0     71.50  17.16      0.715   \n",
       "\n",
       "   Saturated Fat  Protein  Fiber  ...  Magnesium  Phosphorus  Vitamin C  \\\n",
       "0          0.182    0.546  4.368  ...       9.10       20.02      8.372   \n",
       "1          0.000    0.770  1.100  ...       5.50       12.65      5.500   \n",
       "2          0.090    0.600  0.600  ...       8.70       15.60      3.000   \n",
       "3          0.118    1.298  3.068  ...      31.86       25.96     10.266   \n",
       "4          0.000    1.430  4.290  ...      41.47       42.90     41.899   \n",
       "\n",
       "   Vitamin A  Calcium   Iron   Zinc  Vitamin E  Vitamin K        food_items  \n",
       "0      10.92   0.3276  4.004  10.92     0.1820     0.0910             Apple  \n",
       "1    1059.30   0.4895  1.705   7.15     0.2145     0.1100           Apricot  \n",
       "2       2.10   0.6210  6.300   3.60     0.1800     0.1800           Avocado  \n",
       "3       1.18   0.1180  0.590   5.90     0.3540     0.1770            Banana  \n",
       "4    1258.40   2.4310  1.287  77.22     2.2880     1.0868  Black Chokeberry  \n",
       "\n",
       "[5 rows x 24 columns]"
      ]
     },
     "execution_count": 23,
     "metadata": {},
     "output_type": "execute_result"
    }
   ],
   "source": [
    "df.head()"
   ]
  },
  {
   "cell_type": "code",
   "execution_count": 24,
   "metadata": {},
   "outputs": [],
   "source": [
    "cluster = model.labels_"
   ]
  },
  {
   "cell_type": "code",
   "execution_count": 25,
   "metadata": {},
   "outputs": [],
   "source": [
    "df['cluster'] = cluster"
   ]
  },
  {
   "cell_type": "code",
   "execution_count": 26,
   "metadata": {},
   "outputs": [
    {
     "data": {
      "text/html": [
       "<div>\n",
       "<style scoped>\n",
       "    .dataframe tbody tr th:only-of-type {\n",
       "        vertical-align: middle;\n",
       "    }\n",
       "\n",
       "    .dataframe tbody tr th {\n",
       "        vertical-align: top;\n",
       "    }\n",
       "\n",
       "    .dataframe thead th {\n",
       "        text-align: right;\n",
       "    }\n",
       "</style>\n",
       "<table border=\"1\" class=\"dataframe\">\n",
       "  <thead>\n",
       "    <tr style=\"text-align: right;\">\n",
       "      <th></th>\n",
       "      <th>Breakfast</th>\n",
       "      <th>Lunch</th>\n",
       "      <th>Snacks</th>\n",
       "      <th>Dinner</th>\n",
       "      <th>Calories</th>\n",
       "      <th>Carbs</th>\n",
       "      <th>Total Fat</th>\n",
       "      <th>Saturated Fat</th>\n",
       "      <th>Protein</th>\n",
       "      <th>Fiber</th>\n",
       "      <th>...</th>\n",
       "      <th>Phosphorus</th>\n",
       "      <th>Vitamin C</th>\n",
       "      <th>Vitamin A</th>\n",
       "      <th>Calcium</th>\n",
       "      <th>Iron</th>\n",
       "      <th>Zinc</th>\n",
       "      <th>Vitamin E</th>\n",
       "      <th>Vitamin K</th>\n",
       "      <th>food_items</th>\n",
       "      <th>cluster</th>\n",
       "    </tr>\n",
       "  </thead>\n",
       "  <tbody>\n",
       "    <tr>\n",
       "      <th>0</th>\n",
       "      <td>1</td>\n",
       "      <td>0</td>\n",
       "      <td>1</td>\n",
       "      <td>0</td>\n",
       "      <td>94.64</td>\n",
       "      <td>25.48</td>\n",
       "      <td>0.364</td>\n",
       "      <td>0.182</td>\n",
       "      <td>0.546</td>\n",
       "      <td>4.368</td>\n",
       "      <td>...</td>\n",
       "      <td>20.02</td>\n",
       "      <td>8.372</td>\n",
       "      <td>10.92</td>\n",
       "      <td>0.3276</td>\n",
       "      <td>4.004</td>\n",
       "      <td>10.92</td>\n",
       "      <td>0.1820</td>\n",
       "      <td>0.0910</td>\n",
       "      <td>Apple</td>\n",
       "      <td>0</td>\n",
       "    </tr>\n",
       "    <tr>\n",
       "      <th>1</th>\n",
       "      <td>1</td>\n",
       "      <td>0</td>\n",
       "      <td>1</td>\n",
       "      <td>0</td>\n",
       "      <td>26.40</td>\n",
       "      <td>6.05</td>\n",
       "      <td>0.220</td>\n",
       "      <td>0.000</td>\n",
       "      <td>0.770</td>\n",
       "      <td>1.100</td>\n",
       "      <td>...</td>\n",
       "      <td>12.65</td>\n",
       "      <td>5.500</td>\n",
       "      <td>1059.30</td>\n",
       "      <td>0.4895</td>\n",
       "      <td>1.705</td>\n",
       "      <td>7.15</td>\n",
       "      <td>0.2145</td>\n",
       "      <td>0.1100</td>\n",
       "      <td>Apricot</td>\n",
       "      <td>4</td>\n",
       "    </tr>\n",
       "    <tr>\n",
       "      <th>2</th>\n",
       "      <td>1</td>\n",
       "      <td>0</td>\n",
       "      <td>1</td>\n",
       "      <td>0</td>\n",
       "      <td>48.00</td>\n",
       "      <td>2.70</td>\n",
       "      <td>0.600</td>\n",
       "      <td>0.090</td>\n",
       "      <td>0.600</td>\n",
       "      <td>0.600</td>\n",
       "      <td>...</td>\n",
       "      <td>15.60</td>\n",
       "      <td>3.000</td>\n",
       "      <td>2.10</td>\n",
       "      <td>0.6210</td>\n",
       "      <td>6.300</td>\n",
       "      <td>3.60</td>\n",
       "      <td>0.1800</td>\n",
       "      <td>0.1800</td>\n",
       "      <td>Avocado</td>\n",
       "      <td>4</td>\n",
       "    </tr>\n",
       "    <tr>\n",
       "      <th>3</th>\n",
       "      <td>1</td>\n",
       "      <td>0</td>\n",
       "      <td>1</td>\n",
       "      <td>0</td>\n",
       "      <td>105.02</td>\n",
       "      <td>27.14</td>\n",
       "      <td>0.354</td>\n",
       "      <td>0.118</td>\n",
       "      <td>1.298</td>\n",
       "      <td>3.068</td>\n",
       "      <td>...</td>\n",
       "      <td>25.96</td>\n",
       "      <td>10.266</td>\n",
       "      <td>1.18</td>\n",
       "      <td>0.1180</td>\n",
       "      <td>0.590</td>\n",
       "      <td>5.90</td>\n",
       "      <td>0.3540</td>\n",
       "      <td>0.1770</td>\n",
       "      <td>Banana</td>\n",
       "      <td>0</td>\n",
       "    </tr>\n",
       "    <tr>\n",
       "      <th>4</th>\n",
       "      <td>1</td>\n",
       "      <td>0</td>\n",
       "      <td>1</td>\n",
       "      <td>0</td>\n",
       "      <td>71.50</td>\n",
       "      <td>17.16</td>\n",
       "      <td>0.715</td>\n",
       "      <td>0.000</td>\n",
       "      <td>1.430</td>\n",
       "      <td>4.290</td>\n",
       "      <td>...</td>\n",
       "      <td>42.90</td>\n",
       "      <td>41.899</td>\n",
       "      <td>1258.40</td>\n",
       "      <td>2.4310</td>\n",
       "      <td>1.287</td>\n",
       "      <td>77.22</td>\n",
       "      <td>2.2880</td>\n",
       "      <td>1.0868</td>\n",
       "      <td>Black Chokeberry</td>\n",
       "      <td>0</td>\n",
       "    </tr>\n",
       "  </tbody>\n",
       "</table>\n",
       "<p>5 rows × 25 columns</p>\n",
       "</div>"
      ],
      "text/plain": [
       "   Breakfast  Lunch  Snacks  Dinner  Calories  Carbs  Total Fat  \\\n",
       "0          1      0       1       0     94.64  25.48      0.364   \n",
       "1          1      0       1       0     26.40   6.05      0.220   \n",
       "2          1      0       1       0     48.00   2.70      0.600   \n",
       "3          1      0       1       0    105.02  27.14      0.354   \n",
       "4          1      0       1       0     71.50  17.16      0.715   \n",
       "\n",
       "   Saturated Fat  Protein  Fiber  ...  Phosphorus  Vitamin C  Vitamin A  \\\n",
       "0          0.182    0.546  4.368  ...       20.02      8.372      10.92   \n",
       "1          0.000    0.770  1.100  ...       12.65      5.500    1059.30   \n",
       "2          0.090    0.600  0.600  ...       15.60      3.000       2.10   \n",
       "3          0.118    1.298  3.068  ...       25.96     10.266       1.18   \n",
       "4          0.000    1.430  4.290  ...       42.90     41.899    1258.40   \n",
       "\n",
       "   Calcium   Iron   Zinc  Vitamin E  Vitamin K        food_items  cluster  \n",
       "0   0.3276  4.004  10.92     0.1820     0.0910             Apple        0  \n",
       "1   0.4895  1.705   7.15     0.2145     0.1100           Apricot        4  \n",
       "2   0.6210  6.300   3.60     0.1800     0.1800           Avocado        4  \n",
       "3   0.1180  0.590   5.90     0.3540     0.1770            Banana        0  \n",
       "4   2.4310  1.287  77.22     2.2880     1.0868  Black Chokeberry        0  \n",
       "\n",
       "[5 rows x 25 columns]"
      ]
     },
     "execution_count": 26,
     "metadata": {},
     "output_type": "execute_result"
    }
   ],
   "source": [
    "df.head()"
   ]
  },
  {
   "cell_type": "code",
   "execution_count": 31,
   "metadata": {},
   "outputs": [],
   "source": [
    "breakfast_df = df.loc[df['Breakfast']==1,['food_items','Calories','cluster']]"
   ]
  },
  {
   "cell_type": "code",
   "execution_count": 32,
   "metadata": {},
   "outputs": [],
   "source": [
    "def divide_calories(calories):\n",
    "  breakfast = int(0.30 * calories)\n",
    "  lunch = int(0.25 * calories)\n",
    "  snacks = int(0.15 * calories)\n",
    "  dinner = int(0.27 * calories)\n",
    "  return breakfast,lunch,snacks,dinner\n",
    "\n",
    "def cluster(new_calories):\n",
    "  new = np.array(new_calories).reshape(-1,1)\n",
    "  predict = model.predict(new)\n",
    "  return predict[0]\n",
    "\n",
    "def breakfastdf_extaction(df):\n",
    "  breafastdf = df.loc[df['Breakfast']==1,['food_items','Calories','cluster']]\n",
    "  return breafastdf\n",
    "def lunchdf_extaction(df):\n",
    "  lunchdf = df.loc[df['Lunch']==1,['food_items','Calories','cluster']]\n",
    "  return lunchdf\n",
    "def sanckdf_extaction(df):\n",
    "  sanckdf = df.loc[df['Snacks']==1,['food_items','Calories','cluster']]\n",
    "  return sanckdf\n",
    "def dinnerdf_extaction(df):\n",
    "  dinnrtdf = df.loc[df['Dinner']==1,['food_items','Calories','cluster']]\n",
    "  return dinnrtdf\n",
    "\n",
    "\n",
    "\n",
    "\n",
    "def fetch_recommendation(df,cluster):\n",
    "  # df_lunch[(df_lunch['Cluster']==1) & (df_lunch['Calories']>=405) & (df_lunch['Calories']<=500)]\n",
    "  final = df[df['cluster']==cluster].sort_values(by='Calories').head(4)\n",
    "  return final['food_items'].to_list()\n",
    "\n",
    "\n",
    "\n",
    "# weight loss\n",
    "\n",
    "def weight_loss(calories):\n",
    "\n",
    "  weight_loss = calories - 500\n",
    "\n",
    "  # print('Weight calories',weight_loss)\n",
    "\n",
    "  breakfastcal = divide_calories(weight_loss)[0]\n",
    "  # print(breakfastcal)\n",
    "  lunchcal = divide_calories(weight_loss)[1]\n",
    "  # print(lunchcal)\n",
    "  sancktcal = divide_calories(weight_loss)[2]\n",
    "  # print(sancktcal)\n",
    "  dinnercal = divide_calories(weight_loss)[3]\n",
    "  # print(dinnercal)\n",
    "\n",
    "  breakfastdf = breakfastdf_extaction(df)\n",
    "  lunchdf = lunchdf_extaction(df)\n",
    "  snackdf = sanckdf_extaction(df)\n",
    "  dinnerdf = dinnerdf_extaction(df)\n",
    "\n",
    "\n",
    "  beakclusters = cluster(breakfastcal)\n",
    "  # print(beakclusters)\n",
    "  lunchclusters = cluster(lunchcal)\n",
    "  # print(lunchclusters)\n",
    "  snackclusters = cluster(sancktcal)\n",
    "  # print(snackclusters)\n",
    "  dinnerclusters = cluster(dinnercal)\n",
    "  # print(dinnerclusters)\n",
    "  meals = []\n",
    "  breakfastfood = fetch_recommendation(breakfastdf,beakclusters)\n",
    "  meals.append(breakfastfood)\n",
    "  lunchfood = fetch_recommendation(lunchdf,lunchclusters)\n",
    "  meals.append(lunchfood)\n",
    "  snackfood = fetch_recommendation(snackdf,snackclusters)\n",
    "  meals.append(snackfood)\n",
    "  dinnerfood = fetch_recommendation(dinnerdf,dinnerclusters)\n",
    "  meals.append(dinnerfood)\n",
    "\n",
    "  meal_categories = ['breakfast', 'lunch', 'snacks', 'dinner']\n",
    "\n",
    "  meal_dict = {category: meal_list for category, meal_list in zip(meal_categories, meals)}\n",
    "\n",
    "  #breakfastfood ,lunchfood,snackfood,dinnerfood\n",
    "  return meal_dict\n"
   ]
  },
  {
   "cell_type": "code",
   "execution_count": 33,
   "metadata": {},
   "outputs": [
    {
     "data": {
      "text/plain": [
       "{'breakfast': ['Pomegranate Juice',\n",
       "  'Chai',\n",
       "  'Whole grain Sorghum',\n",
       "  'Whole Grain Wheat'],\n",
       " 'lunch': ['Pesto pasta salad', 'Pumpernickel', 'Mutton Meat', 'Hilsa Fish'],\n",
       " 'snacks': ['Cashews', 'Jackfruit', 'Rose Water Lemonade', 'Cedar Nuts'],\n",
       " 'dinner': ['Pesto pasta salad', 'Pumpernickel', 'Mutton Meat', 'Hilsa Fish']}"
      ]
     },
     "execution_count": 33,
     "metadata": {},
     "output_type": "execute_result"
    }
   ],
   "source": [
    "weight_loss(1700)"
   ]
  },
  {
   "cell_type": "code",
   "execution_count": null,
   "metadata": {},
   "outputs": [],
   "source": [
    "d = weight_loss(1700)\n"
   ]
  },
  {
   "cell_type": "code",
   "execution_count": null,
   "metadata": {},
   "outputs": [],
   "source": [
    "from box import ConfigBox"
   ]
  },
  {
   "cell_type": "code",
   "execution_count": null,
   "metadata": {},
   "outputs": [],
   "source": [
    "data = ConfigBox(d)"
   ]
  },
  {
   "cell_type": "code",
   "execution_count": null,
   "metadata": {},
   "outputs": [
    {
     "name": "stdout",
     "output_type": "stream",
     "text": [
      "['Pesto pasta salad', 'Pumpernickel', 'Mutton Meat', 'Hilsa Fish']\n",
      "['Pomegranate Juice', 'Chai', 'Whole grain Sorghum', 'Whole Grain Wheat']\n",
      "['Cashews', 'Jackfruit', 'Rose Water Lemonade', 'Cedar Nuts']\n",
      "['Pesto pasta salad', 'Pumpernickel', 'Mutton Meat', 'Hilsa Fish']\n"
     ]
    }
   ],
   "source": [
    "print(data.breakfast)\n",
    "print(data.lunch)\n",
    "print(data.snacks)\n",
    "print(data.dinner)"
   ]
  },
  {
   "cell_type": "code",
   "execution_count": null,
   "metadata": {},
   "outputs": [],
   "source": []
  },
  {
   "cell_type": "code",
   "execution_count": null,
   "metadata": {},
   "outputs": [],
   "source": []
  },
  {
   "cell_type": "code",
   "execution_count": null,
   "metadata": {},
   "outputs": [],
   "source": []
  },
  {
   "cell_type": "code",
   "execution_count": null,
   "metadata": {},
   "outputs": [],
   "source": []
  },
  {
   "cell_type": "code",
   "execution_count": null,
   "metadata": {},
   "outputs": [],
   "source": []
  }
 ],
 "metadata": {
  "kernelspec": {
   "display_name": "healthyai",
   "language": "python",
   "name": "python3"
  },
  "language_info": {
   "codemirror_mode": {
    "name": "ipython",
    "version": 3
   },
   "file_extension": ".py",
   "mimetype": "text/x-python",
   "name": "python",
   "nbconvert_exporter": "python",
   "pygments_lexer": "ipython3",
   "version": "3.10.13"
  }
 },
 "nbformat": 4,
 "nbformat_minor": 2
}
