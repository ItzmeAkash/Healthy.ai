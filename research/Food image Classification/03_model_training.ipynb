{
 "cells": [
  {
   "cell_type": "code",
   "execution_count": 4,
   "metadata": {},
   "outputs": [],
   "source": [
    "import os\n"
   ]
  },
  {
   "cell_type": "code",
   "execution_count": 5,
   "metadata": {},
   "outputs": [
    {
     "data": {
      "text/plain": [
       "'d:\\\\Nikku\\\\End to End Project\\\\Healthy.ai\\\\research'"
      ]
     },
     "execution_count": 5,
     "metadata": {},
     "output_type": "execute_result"
    }
   ],
   "source": [
    "%pwd"
   ]
  },
  {
   "cell_type": "code",
   "execution_count": 6,
   "metadata": {},
   "outputs": [],
   "source": [
    "os.chdir(\"../\")"
   ]
  },
  {
   "cell_type": "code",
   "execution_count": 7,
   "metadata": {},
   "outputs": [
    {
     "data": {
      "text/plain": [
       "'d:\\\\Nikku\\\\End to End Project\\\\Healthy.ai'"
      ]
     },
     "execution_count": 7,
     "metadata": {},
     "output_type": "execute_result"
    }
   ],
   "source": [
    "%pwd"
   ]
  },
  {
   "cell_type": "markdown",
   "metadata": {},
   "source": [
    "## Update the entity"
   ]
  },
  {
   "cell_type": "code",
   "execution_count": 8,
   "metadata": {},
   "outputs": [],
   "source": [
    "from pathlib import  Path\n",
    "from dataclasses import dataclass\n",
    "\n",
    "\n",
    "@dataclass(frozen=True)\n",
    "class FoodTrainingConfig:\n",
    "    root_dir: Path\n",
    "    trained_model_path: Path\n",
    "    updated_base_model_path: Path\n",
    "    training_data: Path\n",
    "    params_epochs: int\n",
    "    params_batch_size: int\n",
    "    params_is_augmentation: bool\n",
    "    params_image_size: list"
   ]
  },
  {
   "cell_type": "markdown",
   "metadata": {},
   "source": [
    "## Update the Configuration Manager"
   ]
  },
  {
   "cell_type": "code",
   "execution_count": 9,
   "metadata": {},
   "outputs": [
    {
     "name": "stdout",
     "output_type": "stream",
     "text": [
      "[2024-02-24 11:40:33,295: WARNING: module_wrapper: From c:\\Users\\akash\\anaconda3\\envs\\healthyai\\lib\\site-packages\\keras\\src\\losses.py:2976: The name tf.losses.sparse_softmax_cross_entropy is deprecated. Please use tf.compat.v1.losses.sparse_softmax_cross_entropy instead.\n",
      "]\n"
     ]
    }
   ],
   "source": [
    "from Healthyai.constants import *\n",
    "from Healthyai.utils.common import read_yaml, create_directories\n",
    "import tensorflow as tf"
   ]
  },
  {
   "cell_type": "code",
   "execution_count": 10,
   "metadata": {},
   "outputs": [],
   "source": [
    "class ConfigurationManager:\n",
    "    def __init__(\n",
    "        self,\n",
    "        config_filepath = CONFIG_FILE_PATH,\n",
    "        params_filepath = PARAMS_FILE_PATH):\n",
    "        \n",
    "        self.config =  read_yaml(config_filepath)\n",
    "        self.params =  read_yaml(params_filepath)\n",
    "        \n",
    "        \n",
    "        create_directories([self.config.artifacts])\n",
    "        \n",
    "    def get_food_model_training_config(self) -> FoodTrainingConfig:\n",
    "        training = self.config.food_image_model_training\n",
    "        prepare_base_model = self.config.food_image_prepare_base_model\n",
    "        params = self.params.VGG16\n",
    "        training_data = os.path.join(self.config.food_image_data_ingestion.unzip_dir, \"food classification\")\n",
    "        create_directories([Path(training.root_dir)])\n",
    "        \n",
    "        \n",
    "        training_config = FoodTrainingConfig(\n",
    "            root_dir= Path(training.root_dir),\n",
    "            trained_model_path=Path(training.trained_model_path),\n",
    "            updated_base_model_path = Path(prepare_base_model.updated_base_model_path),\n",
    "            training_data=Path(training_data),\n",
    "            params_epochs=params.EPOCHS,\n",
    "            params_batch_size=params.BATCH_SIZE,\n",
    "            params_is_augmentation=params.AUGMENTATION,\n",
    "            params_image_size=params.IMAGE_SIZE\n",
    "        )\n",
    "        return training_config"
   ]
  },
  {
   "cell_type": "markdown",
   "metadata": {},
   "source": [
    "# Update the Components"
   ]
  },
  {
   "cell_type": "code",
   "execution_count": 11,
   "metadata": {},
   "outputs": [],
   "source": [
    "import os\n",
    "import urllib.request as request\n",
    "from zipfile import  ZipFile\n",
    "import tensorflow as tf\n",
    "import time"
   ]
  },
  {
   "cell_type": "code",
   "execution_count": 12,
   "metadata": {},
   "outputs": [],
   "source": [
    "class FoodTraining:\n",
    "    def __init__(self, config: FoodTrainingConfig):\n",
    "        self.config = config\n",
    "        \n",
    "    def get_base_model(self):\n",
    "        self.model = tf.keras.models.load_model(\n",
    "            self.config.updated_base_model_path\n",
    "        )\n",
    "    \n",
    "    def train_valid_generator(self):\n",
    "        \n",
    "        datagenerator_kwargs = dict(\n",
    "            rescale = 1./255,\n",
    "            validation_split = 0.20\n",
    "        )\n",
    "        \n",
    "        dataflow_kwargs = dict(\n",
    "            target_size = self.config.params_image_size[:-1],\n",
    "            batch_size = self.config.params_batch_size,\n",
    "            interpolation = \"bilinear\"\n",
    "        )\n",
    "        valid_datagenerator  = tf.keras.preprocessing.image.ImageDataGenerator(\n",
    "            **datagenerator_kwargs\n",
    "        )\n",
    "        \n",
    "        self.valid_generator = valid_datagenerator.flow_from_directory(\n",
    "            directory = self.config.training_data,\n",
    "            subset = \"validation\",\n",
    "            shuffle = False,\n",
    "            **dataflow_kwargs\n",
    "        ) \n",
    "        if self.config.params_is_augmentation:\n",
    "            train_datagenerator = tf.keras.preprocessing.image.ImageDataGenerator(\n",
    "                rotation_range = 40,\n",
    "                horizontal_flip=True,\n",
    "                width_shift_range=0.2,\n",
    "                height_shift_range=0.2,\n",
    "                shear_range = 0.2,\n",
    "                zoom_range = 0.2,\n",
    "                **datagenerator_kwargs\n",
    "            )\n",
    "        else:\n",
    "            train_datagenerator = valid_datagenerator\n",
    "            \n",
    "        self.train_generator = train_datagenerator.flow_from_directory(\n",
    "            directory = self.config.training_data,\n",
    "            subset = \"training\",\n",
    "            shuffle = True,\n",
    "            **dataflow_kwargs\n",
    "        )\n",
    "    \n",
    "    @staticmethod\n",
    "    def save_model(path: Path, model: tf.keras.Model):\n",
    "        model.save(path)\n",
    "        \n",
    "    def train(self):\n",
    "        self.steps_per_epoch = self.train_generator.samples // self.train_generator.batch_size\n",
    "        self.validation_steps = self.valid_generator.samples // self.valid_generator.batch_size\n",
    "        \n",
    "        \n",
    "        self.model.fit(\n",
    "            self.train_generator,\n",
    "            epochs = self.config.params_epochs,\n",
    "            steps_per_epoch = self.steps_per_epoch,\n",
    "            validation_steps = self.validation_steps,\n",
    "            validation_data = self.valid_generator\n",
    "        )\n",
    "        \n",
    "        self.save_model(\n",
    "            path=self.config.trained_model_path,\n",
    "            model = self.model\n",
    "        )\n",
    "    "
   ]
  },
  {
   "cell_type": "code",
   "execution_count": 13,
   "metadata": {},
   "outputs": [
    {
     "name": "stdout",
     "output_type": "stream",
     "text": [
      "[2024-02-24 11:40:34,301: INFO: common: yaml file: config\\config.yaml loaded successfully]\n",
      "[2024-02-24 11:40:34,306: INFO: common: yaml file: params.yaml loaded successfully]\n",
      "[2024-02-24 11:40:34,307: INFO: common: Created directory at : artifacts]\n",
      "[2024-02-24 11:40:34,308: INFO: common: Created directory at : artifacts\\food_image_classification\\training]\n",
      "[2024-02-24 11:40:34,430: WARNING: module_wrapper: From c:\\Users\\akash\\anaconda3\\envs\\healthyai\\lib\\site-packages\\keras\\src\\backend.py:1398: The name tf.executing_eagerly_outside_functions is deprecated. Please use tf.compat.v1.executing_eagerly_outside_functions instead.\n",
      "]\n",
      "[2024-02-24 11:40:34,462: WARNING: module_wrapper: From c:\\Users\\akash\\anaconda3\\envs\\healthyai\\lib\\site-packages\\keras\\src\\layers\\pooling\\max_pooling2d.py:161: The name tf.nn.max_pool is deprecated. Please use tf.nn.max_pool2d instead.\n",
      "]\n",
      "Found 1980 images belonging to 11 classes.\n",
      "Found 7920 images belonging to 11 classes.\n",
      "Epoch 1/30\n",
      "[2024-02-24 11:40:35,567: WARNING: module_wrapper: From c:\\Users\\akash\\anaconda3\\envs\\healthyai\\lib\\site-packages\\keras\\src\\utils\\tf_utils.py:492: The name tf.ragged.RaggedTensorValue is deprecated. Please use tf.compat.v1.ragged.RaggedTensorValue instead.\n",
      "]\n",
      "495/495 [==============================] - 395s 797ms/step - loss: 14.2847 - accuracy: 0.3527 - val_loss: 9.7497 - val_accuracy: 0.5498\n",
      "Epoch 2/30\n",
      "495/495 [==============================] - 383s 774ms/step - loss: 14.9725 - accuracy: 0.4451 - val_loss: 13.5585 - val_accuracy: 0.5300\n",
      "Epoch 3/30\n",
      "495/495 [==============================] - 373s 753ms/step - loss: 14.7180 - accuracy: 0.4774 - val_loss: 15.7652 - val_accuracy: 0.4990\n",
      "Epoch 4/30\n",
      "495/495 [==============================] - 374s 756ms/step - loss: 15.8102 - accuracy: 0.4907 - val_loss: 14.3672 - val_accuracy: 0.5701\n",
      "Epoch 5/30\n",
      "495/495 [==============================] - 374s 755ms/step - loss: 15.1900 - accuracy: 0.5183 - val_loss: 16.1054 - val_accuracy: 0.5361\n",
      "Epoch 6/30\n",
      "495/495 [==============================] - 373s 753ms/step - loss: 15.3902 - accuracy: 0.5236 - val_loss: 19.4137 - val_accuracy: 0.5046\n",
      "Epoch 7/30\n",
      "495/495 [==============================] - 371s 750ms/step - loss: 15.5887 - accuracy: 0.5352 - val_loss: 16.2717 - val_accuracy: 0.5655\n",
      "Epoch 8/30\n",
      "495/495 [==============================] - 376s 761ms/step - loss: 15.3560 - accuracy: 0.5456 - val_loss: 16.4510 - val_accuracy: 0.5854\n",
      "Epoch 9/30\n",
      "495/495 [==============================] - 373s 754ms/step - loss: 15.9877 - accuracy: 0.5529 - val_loss: 20.1385 - val_accuracy: 0.5407\n",
      "Epoch 10/30\n",
      "495/495 [==============================] - 911s 2s/step - loss: 16.3409 - accuracy: 0.5509 - val_loss: 18.2402 - val_accuracy: 0.5793\n",
      "Epoch 11/30\n",
      "495/495 [==============================] - 615s 1s/step - loss: 15.8774 - accuracy: 0.5572 - val_loss: 17.0483 - val_accuracy: 0.5899\n",
      "Epoch 12/30\n",
      "495/495 [==============================] - 371s 750ms/step - loss: 16.2627 - accuracy: 0.5614 - val_loss: 20.1099 - val_accuracy: 0.5564\n",
      "Epoch 13/30\n",
      "495/495 [==============================] - 368s 743ms/step - loss: 16.2159 - accuracy: 0.5677 - val_loss: 18.5379 - val_accuracy: 0.5960\n",
      "Epoch 14/30\n",
      "495/495 [==============================] - 366s 739ms/step - loss: 16.6533 - accuracy: 0.5723 - val_loss: 18.1232 - val_accuracy: 0.6037\n",
      "Epoch 15/30\n",
      "495/495 [==============================] - 368s 743ms/step - loss: 15.7420 - accuracy: 0.5908 - val_loss: 16.8796 - val_accuracy: 0.6291\n",
      "Epoch 16/30\n",
      "495/495 [==============================] - 365s 737ms/step - loss: 15.7652 - accuracy: 0.5891 - val_loss: 20.0105 - val_accuracy: 0.5752\n",
      "Epoch 17/30\n",
      "495/495 [==============================] - 368s 745ms/step - loss: 16.4900 - accuracy: 0.5761 - val_loss: 18.7627 - val_accuracy: 0.6052\n",
      "Epoch 18/30\n",
      "495/495 [==============================] - 366s 740ms/step - loss: 15.9521 - accuracy: 0.5994 - val_loss: 20.5835 - val_accuracy: 0.5838\n",
      "Epoch 19/30\n",
      "495/495 [==============================] - 366s 740ms/step - loss: 17.7192 - accuracy: 0.5851 - val_loss: 18.6212 - val_accuracy: 0.6159\n",
      "Epoch 20/30\n",
      "495/495 [==============================] - 367s 741ms/step - loss: 16.2462 - accuracy: 0.6024 - val_loss: 23.5768 - val_accuracy: 0.5498\n",
      "Epoch 21/30\n",
      "495/495 [==============================] - 367s 741ms/step - loss: 16.1537 - accuracy: 0.5977 - val_loss: 19.8480 - val_accuracy: 0.6133\n",
      "Epoch 22/30\n",
      "495/495 [==============================] - 365s 737ms/step - loss: 16.0673 - accuracy: 0.6064 - val_loss: 18.6040 - val_accuracy: 0.6174\n",
      "Epoch 23/30\n",
      "495/495 [==============================] - 366s 740ms/step - loss: 16.2663 - accuracy: 0.6004 - val_loss: 18.0701 - val_accuracy: 0.6347\n",
      "Epoch 24/30\n",
      "495/495 [==============================] - 367s 742ms/step - loss: 16.1293 - accuracy: 0.6090 - val_loss: 22.1705 - val_accuracy: 0.5915\n",
      "Epoch 25/30\n",
      "495/495 [==============================] - 472s 954ms/step - loss: 16.8186 - accuracy: 0.6064 - val_loss: 21.2547 - val_accuracy: 0.6016\n",
      "Epoch 26/30\n",
      "495/495 [==============================] - 365s 738ms/step - loss: 16.1262 - accuracy: 0.6129 - val_loss: 23.4592 - val_accuracy: 0.5803\n",
      "Epoch 27/30\n",
      "495/495 [==============================] - 366s 740ms/step - loss: 17.2359 - accuracy: 0.6090 - val_loss: 21.7871 - val_accuracy: 0.5935\n",
      "Epoch 28/30\n",
      "495/495 [==============================] - 366s 740ms/step - loss: 17.6065 - accuracy: 0.6014 - val_loss: 23.9270 - val_accuracy: 0.5971\n",
      "Epoch 29/30\n",
      "495/495 [==============================] - 364s 735ms/step - loss: 17.1891 - accuracy: 0.6101 - val_loss: 23.6688 - val_accuracy: 0.5920\n",
      "Epoch 30/30\n",
      "495/495 [==============================] - 1093s 2s/step - loss: 16.6935 - accuracy: 0.6189 - val_loss: 20.3809 - val_accuracy: 0.6143\n"
     ]
    },
    {
     "name": "stderr",
     "output_type": "stream",
     "text": [
      "c:\\Users\\akash\\anaconda3\\envs\\healthyai\\lib\\site-packages\\keras\\src\\engine\\training.py:3103: UserWarning: You are saving your model as an HDF5 file via `model.save()`. This file format is considered legacy. We recommend using instead the native Keras format, e.g. `model.save('my_model.keras')`.\n",
      "  saving_api.save_model(\n"
     ]
    }
   ],
   "source": [
    "# Pipeline\n",
    "try:\n",
    "    config = ConfigurationManager()\n",
    "    traing_config = config.get_food_model_training_config()\n",
    "    training = FoodTraining(config=traing_config)\n",
    "    training.get_base_model()\n",
    "    training.train_valid_generator()\n",
    "    training.train()\n",
    "except Exception as e:\n",
    "    raise e"
   ]
  },
  {
   "cell_type": "code",
   "execution_count": null,
   "metadata": {},
   "outputs": [],
   "source": []
  }
 ],
 "metadata": {
  "kernelspec": {
   "display_name": "healthyai",
   "language": "python",
   "name": "python3"
  },
  "language_info": {
   "codemirror_mode": {
    "name": "ipython",
    "version": 3
   },
   "file_extension": ".py",
   "mimetype": "text/x-python",
   "name": "python",
   "nbconvert_exporter": "python",
   "pygments_lexer": "ipython3",
   "version": "3.10.13"
  }
 },
 "nbformat": 4,
 "nbformat_minor": 2
}
