{
 "cells": [
  {
   "cell_type": "code",
   "execution_count": 1,
   "metadata": {},
   "outputs": [],
   "source": [
    "import os"
   ]
  },
  {
   "cell_type": "code",
   "execution_count": 2,
   "metadata": {},
   "outputs": [
    {
     "data": {
      "text/plain": [
       "'d:\\\\Nikku\\\\End to End Project\\\\Healthy.ai\\\\research\\\\Food image Classification'"
      ]
     },
     "execution_count": 2,
     "metadata": {},
     "output_type": "execute_result"
    }
   ],
   "source": [
    "%pwd"
   ]
  },
  {
   "cell_type": "code",
   "execution_count": 4,
   "metadata": {},
   "outputs": [],
   "source": [
    "os.chdir(\"../\")"
   ]
  },
  {
   "cell_type": "code",
   "execution_count": 5,
   "metadata": {},
   "outputs": [
    {
     "data": {
      "text/plain": [
       "'d:\\\\Nikku\\\\End to End Project\\\\Healthy.ai'"
      ]
     },
     "execution_count": 5,
     "metadata": {},
     "output_type": "execute_result"
    }
   ],
   "source": [
    "%pwd"
   ]
  },
  {
   "cell_type": "markdown",
   "metadata": {},
   "source": [
    "## Update the entity"
   ]
  },
  {
   "cell_type": "code",
   "execution_count": 6,
   "metadata": {},
   "outputs": [],
   "source": [
    "from pathlib import  Path\n",
    "from dataclasses import dataclass\n",
    "\n",
    "\n",
    "@dataclass(frozen=True)\n",
    "class FoodTrainingConfig:\n",
    "    root_dir: Path\n",
    "    trained_model_path: Path\n",
    "    updated_base_model_path: Path\n",
    "    training_data: Path\n",
    "    params_epochs: int\n",
    "    params_batch_size: int\n",
    "    params_is_augmentation: bool\n",
    "    params_image_size: list"
   ]
  },
  {
   "cell_type": "markdown",
   "metadata": {},
   "source": [
    "## Update the Configuration Manager"
   ]
  },
  {
   "cell_type": "code",
   "execution_count": 7,
   "metadata": {},
   "outputs": [
    {
     "name": "stdout",
     "output_type": "stream",
     "text": [
      "[2024-02-22 15:45:08,841: WARNING: module_wrapper: From c:\\Users\\akash\\anaconda3\\envs\\healthyai\\lib\\site-packages\\keras\\src\\losses.py:2976: The name tf.losses.sparse_softmax_cross_entropy is deprecated. Please use tf.compat.v1.losses.sparse_softmax_cross_entropy instead.\n",
      "]\n"
     ]
    }
   ],
   "source": [
    "from Healthyai.constants import *\n",
    "from Healthyai.utils.common import read_yaml, create_directories\n",
    "import tensorflow as tf"
   ]
  },
  {
   "cell_type": "code",
   "execution_count": 8,
   "metadata": {},
   "outputs": [],
   "source": [
    "class ConfigurationManager:\n",
    "    def __init__(\n",
    "        self,\n",
    "        config_filepath = CONFIG_FILE_PATH,\n",
    "        params_filepath = PARAMS_FILE_PATH):\n",
    "        \n",
    "        self.config =  read_yaml(config_filepath)\n",
    "        self.params =  read_yaml(params_filepath)\n",
    "        \n",
    "        \n",
    "        create_directories([self.config.artifacts])\n",
    "        \n",
    "    def get_food_model_training_config(self) -> FoodTrainingConfig:\n",
    "        training = self.config.food_image_model_training\n",
    "        prepare_base_model = self.config.food_image_prepare_base_model\n",
    "        params = self.params.VGG16\n",
    "        training_data = os.path.join(self.config.food_image_data_ingestion.unzip_dir, \"food classification\")\n",
    "        create_directories([Path(training.root_dir)])\n",
    "        \n",
    "        \n",
    "        training_config = FoodTrainingConfig(\n",
    "            root_dir= Path(training.root_dir),\n",
    "            trained_model_path=Path(training.trained_model_path),\n",
    "            updated_base_model_path = Path(prepare_base_model.updated_base_model_path),\n",
    "            training_data=Path(training_data),\n",
    "            params_epochs=params.EPOCHS,\n",
    "            params_batch_size=params.BATCH_SIZE,\n",
    "            params_is_augmentation=params.AUGMENTATION,\n",
    "            params_image_size=params.IMAGE_SIZE\n",
    "        )\n",
    "        return training_config"
   ]
  },
  {
   "cell_type": "markdown",
   "metadata": {},
   "source": [
    "# Update the Components"
   ]
  },
  {
   "cell_type": "code",
   "execution_count": 9,
   "metadata": {},
   "outputs": [],
   "source": [
    "import os\n",
    "import urllib.request as request\n",
    "from zipfile import  ZipFile\n",
    "import tensorflow as tf\n",
    "import time"
   ]
  },
  {
   "cell_type": "code",
   "execution_count": 10,
   "metadata": {},
   "outputs": [],
   "source": [
    "class FoodTraining:\n",
    "    def __init__(self, config: FoodTrainingConfig):\n",
    "        self.config = config\n",
    "        \n",
    "    def get_base_model(self):\n",
    "        self.model = tf.keras.models.load_model(\n",
    "            self.config.updated_base_model_path\n",
    "        )\n",
    "    \n",
    "    def train_valid_generator(self):\n",
    "        \n",
    "        datagenerator_kwargs = dict(\n",
    "            rescale = 1./255,\n",
    "            validation_split = 0.20\n",
    "        )\n",
    "        \n",
    "        dataflow_kwargs = dict(\n",
    "            target_size = self.config.params_image_size[:-1],\n",
    "            batch_size = self.config.params_batch_size,\n",
    "            interpolation = \"bilinear\"\n",
    "        )\n",
    "        valid_datagenerator  = tf.keras.preprocessing.image.ImageDataGenerator(\n",
    "            **datagenerator_kwargs\n",
    "        )\n",
    "        \n",
    "        self.valid_generator = valid_datagenerator.flow_from_directory(\n",
    "            directory = self.config.training_data,\n",
    "            subset = \"validation\",\n",
    "            shuffle = False,\n",
    "            **dataflow_kwargs\n",
    "        ) \n",
    "        if self.config.params_is_augmentation:\n",
    "            train_datagenerator = tf.keras.preprocessing.image.ImageDataGenerator(\n",
    "                rotation_range = 40,\n",
    "                horizontal_flip=True,\n",
    "                width_shift_range=0.2,\n",
    "                height_shift_range=0.2,\n",
    "                shear_range = 0.2,\n",
    "                zoom_range = 0.2,\n",
    "                **datagenerator_kwargs\n",
    "            )\n",
    "        else:\n",
    "            train_datagenerator = valid_datagenerator\n",
    "            \n",
    "        self.train_generator = train_datagenerator.flow_from_directory(\n",
    "            directory = self.config.training_data,\n",
    "            subset = \"training\",\n",
    "            shuffle = True,\n",
    "            **dataflow_kwargs\n",
    "        )\n",
    "    \n",
    "    @staticmethod\n",
    "    def save_model(path: Path, model: tf.keras.Model):\n",
    "        model.save(path)\n",
    "        \n",
    "    def train(self):\n",
    "        self.steps_per_epoch = self.train_generator.samples // self.train_generator.batch_size\n",
    "        self.validation_steps = self.valid_generator.samples // self.valid_generator.batch_size\n",
    "        \n",
    "        \n",
    "        self.model.fit(\n",
    "            self.train_generator,\n",
    "            epochs = self.config.params_epochs,\n",
    "            steps_per_epoch = self.steps_per_epoch,\n",
    "            validation_steps = self.validation_steps,\n",
    "            validation_data = self.valid_generator\n",
    "        )\n",
    "        \n",
    "        self.save_model(\n",
    "            path=self.config.trained_model_path,\n",
    "            model = self.model\n",
    "        )\n",
    "    "
   ]
  },
  {
   "cell_type": "code",
   "execution_count": 11,
   "metadata": {},
   "outputs": [
    {
     "name": "stdout",
     "output_type": "stream",
     "text": [
      "[2024-02-22 15:45:09,766: INFO: common: yaml file: config\\config.yaml loaded successfully]\n",
      "[2024-02-22 15:45:09,768: INFO: common: yaml file: params.yaml loaded successfully]\n",
      "[2024-02-22 15:45:09,768: INFO: common: Created directory at : artifacts]\n",
      "[2024-02-22 15:45:09,769: INFO: common: Created directory at : artifacts\\food_image_classification\\training]\n",
      "[2024-02-22 15:45:09,894: WARNING: module_wrapper: From c:\\Users\\akash\\anaconda3\\envs\\healthyai\\lib\\site-packages\\keras\\src\\backend.py:1398: The name tf.executing_eagerly_outside_functions is deprecated. Please use tf.compat.v1.executing_eagerly_outside_functions instead.\n",
      "]\n",
      "[2024-02-22 15:45:09,929: WARNING: module_wrapper: From c:\\Users\\akash\\anaconda3\\envs\\healthyai\\lib\\site-packages\\keras\\src\\layers\\pooling\\max_pooling2d.py:161: The name tf.nn.max_pool is deprecated. Please use tf.nn.max_pool2d instead.\n",
      "]\n",
      "Found 1980 images belonging to 11 classes.\n",
      "Found 7920 images belonging to 11 classes.\n",
      "Epoch 1/10\n",
      "[2024-02-22 15:45:11,062: WARNING: module_wrapper: From c:\\Users\\akash\\anaconda3\\envs\\healthyai\\lib\\site-packages\\keras\\src\\utils\\tf_utils.py:492: The name tf.ragged.RaggedTensorValue is deprecated. Please use tf.compat.v1.ragged.RaggedTensorValue instead.\n",
      "]\n",
      "495/495 [==============================] - 355s 717ms/step - loss: 14.8728 - accuracy: 0.3500 - val_loss: 12.1528 - val_accuracy: 0.4680\n",
      "Epoch 2/10\n",
      "495/495 [==============================] - 370s 748ms/step - loss: 14.1985 - accuracy: 0.4449 - val_loss: 9.8172 - val_accuracy: 0.5671\n",
      "Epoch 3/10\n",
      "495/495 [==============================] - 368s 744ms/step - loss: 14.6964 - accuracy: 0.4678 - val_loss: 16.7063 - val_accuracy: 0.5036\n",
      "Epoch 4/10\n",
      "495/495 [==============================] - 369s 745ms/step - loss: 15.1097 - accuracy: 0.5037 - val_loss: 14.8214 - val_accuracy: 0.5432\n",
      "Epoch 5/10\n",
      "495/495 [==============================] - 370s 746ms/step - loss: 15.6884 - accuracy: 0.5102 - val_loss: 13.4225 - val_accuracy: 0.5838\n",
      "Epoch 6/10\n",
      "495/495 [==============================] - 369s 745ms/step - loss: 15.5211 - accuracy: 0.5319 - val_loss: 14.3264 - val_accuracy: 0.5960\n",
      "Epoch 7/10\n",
      "495/495 [==============================] - 370s 746ms/step - loss: 15.5931 - accuracy: 0.5367 - val_loss: 13.8992 - val_accuracy: 0.5930\n",
      "Epoch 8/10\n",
      "495/495 [==============================] - 374s 755ms/step - loss: 16.3771 - accuracy: 0.5408 - val_loss: 17.0838 - val_accuracy: 0.5610\n",
      "Epoch 9/10\n",
      "495/495 [==============================] - 371s 751ms/step - loss: 15.7959 - accuracy: 0.5544 - val_loss: 18.8161 - val_accuracy: 0.5559\n",
      "Epoch 10/10\n",
      "495/495 [==============================] - 370s 748ms/step - loss: 15.0638 - accuracy: 0.5628 - val_loss: 21.3321 - val_accuracy: 0.5259\n"
     ]
    },
    {
     "name": "stderr",
     "output_type": "stream",
     "text": [
      "c:\\Users\\akash\\anaconda3\\envs\\healthyai\\lib\\site-packages\\keras\\src\\engine\\training.py:3103: UserWarning: You are saving your model as an HDF5 file via `model.save()`. This file format is considered legacy. We recommend using instead the native Keras format, e.g. `model.save('my_model.keras')`.\n",
      "  saving_api.save_model(\n"
     ]
    }
   ],
   "source": [
    "# Pipeline\n",
    "try:\n",
    "    config = ConfigurationManager()\n",
    "    traing_config = config.get_food_model_training_config()\n",
    "    training = FoodTraining(config=traing_config)\n",
    "    training.get_base_model()\n",
    "    training.train_valid_generator()\n",
    "    training.train()\n",
    "except Exception as e:\n",
    "    raise e"
   ]
  },
  {
   "cell_type": "code",
   "execution_count": null,
   "metadata": {},
   "outputs": [],
   "source": []
  }
 ],
 "metadata": {
  "kernelspec": {
   "display_name": "healthyai",
   "language": "python",
   "name": "python3"
  },
  "language_info": {
   "codemirror_mode": {
    "name": "ipython",
    "version": 3
   },
   "file_extension": ".py",
   "mimetype": "text/x-python",
   "name": "python",
   "nbconvert_exporter": "python",
   "pygments_lexer": "ipython3",
   "version": "3.10.13"
  }
 },
 "nbformat": 4,
 "nbformat_minor": 2
}
