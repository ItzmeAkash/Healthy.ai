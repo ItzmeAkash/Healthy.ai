{
 "cells": [
  {
   "cell_type": "code",
   "execution_count": 11,
   "metadata": {},
   "outputs": [],
   "source": [
    "import os"
   ]
  },
  {
   "cell_type": "code",
   "execution_count": 12,
   "metadata": {},
   "outputs": [
    {
     "data": {
      "text/plain": [
       "'d:\\\\Nikku\\\\End to End Project\\\\Healthy.ai\\\\research\\\\Food image Classification'"
      ]
     },
     "execution_count": 12,
     "metadata": {},
     "output_type": "execute_result"
    }
   ],
   "source": [
    "%pwd"
   ]
  },
  {
   "cell_type": "code",
   "execution_count": 15,
   "metadata": {},
   "outputs": [],
   "source": [
    "os.chdir(\"../\")"
   ]
  },
  {
   "cell_type": "code",
   "execution_count": 36,
   "metadata": {},
   "outputs": [
    {
     "data": {
      "text/plain": [
       "'d:\\\\Nikku\\\\End to End Project\\\\Healthy.ai'"
      ]
     },
     "execution_count": 36,
     "metadata": {},
     "output_type": "execute_result"
    }
   ],
   "source": [
    "%pwd"
   ]
  },
  {
   "cell_type": "markdown",
   "metadata": {},
   "source": [
    "## Update the entity"
   ]
  },
  {
   "cell_type": "code",
   "execution_count": 37,
   "metadata": {},
   "outputs": [],
   "source": [
    "from dataclasses import dataclass\n",
    "from pathlib import Path\n",
    "\n",
    "\n",
    "\n",
    "@dataclass(frozen=True)\n",
    "class FoodImageDataIngestionConfig:\n",
    "    root_dir: Path\n",
    "    source_URL: str\n",
    "    local_data_file: Path\n",
    "    unzip_dir: Path\n",
    "    "
   ]
  },
  {
   "cell_type": "code",
   "execution_count": 38,
   "metadata": {},
   "outputs": [],
   "source": [
    "from Healthyai.utils.common import read_yaml, create_directories\n",
    "from Healthyai.constants import *"
   ]
  },
  {
   "cell_type": "markdown",
   "metadata": {},
   "source": [
    "##  Configuration Manager In Src Config"
   ]
  },
  {
   "cell_type": "code",
   "execution_count": 39,
   "metadata": {},
   "outputs": [],
   "source": [
    "class ConfigurationManager:\n",
    "    def __init__(\n",
    "        self,\n",
    "        config_filepath= CONFIG_FILE_PATH,\n",
    "        params_filepath= PARAMS_FILE_PATH\n",
    "    ):\n",
    "        self.config = read_yaml(config_filepath)\n",
    "        self.params =  read_yaml(params_filepath)\n",
    "        \n",
    "        create_directories([self.config.artifacts])\n",
    "        \n",
    "        \n",
    "    #data ingestion for food image classification\n",
    "       \n",
    "    def get_food_data_ingestion(self) -> FoodImageDataIngestionConfig:\n",
    "       config = self.config.food_image_data_ingestion\n",
    "       \n",
    "       create_directories([config.root_dir])\n",
    "       \n",
    "       food_image_data_ingestion_config = FoodImageDataIngestionConfig(\n",
    "           root_dir = config.root_dir,\n",
    "           source_URL = config.source_URL,\n",
    "           local_data_file = config.local_data_file,\n",
    "           unzip_dir = config.unzip_dir\n",
    "           \n",
    "       )\n",
    "       return food_image_data_ingestion_config\n",
    "        "
   ]
  },
  {
   "cell_type": "markdown",
   "metadata": {},
   "source": [
    "## Update the Components"
   ]
  },
  {
   "cell_type": "code",
   "execution_count": 40,
   "metadata": {},
   "outputs": [],
   "source": [
    "import os\n",
    "import zipfile\n",
    "import gdown\n",
    "from Healthyai import logger\n",
    "from Healthyai.utils.common import get_size"
   ]
  },
  {
   "cell_type": "code",
   "execution_count": 41,
   "metadata": {},
   "outputs": [],
   "source": [
    "class FoodDataIngestion:\n",
    "    def __init__(self, config: FoodImageDataIngestionConfig):\n",
    "        self.config = config\n",
    "        \n",
    "    \n",
    "    def download_data(self) -> str:\n",
    "        \"\"\"\n",
    "        Fetch data from the Url\n",
    "        \"\"\"\n",
    "        try:\n",
    "            dataset_url =  self.config.source_URL\n",
    "            zip_download_dir  = self.config.local_data_file\n",
    "            os.makedirs(\"artifacts/food_image_classification/data_ingestion\",exist_ok=True)\n",
    "            logger.info(f\"Downloading data from {dataset_url} into file {zip_download_dir}\")\n",
    "            \n",
    "            \n",
    "            file_id = dataset_url.split(\"/\")[-2]\n",
    "            prefix = 'https://drive.google.com/uc?/export=download&id='\n",
    "            gdown.download(prefix+file_id,zip_download_dir)\n",
    "            \n",
    "            logger.info(f\"Downloaded data from {dataset_url} into file {zip_download_dir}\")\n",
    "        except Exception as e:\n",
    "            raise e\n",
    "    \n",
    "    def extract_zip_file(self):\n",
    "        \"\"\"\n",
    "        Zip_file_path: str\n",
    "        Extract the zip file into the data directory\n",
    "        Function retruns None\n",
    "        \"\"\"\n",
    "        unzip_path = self.config.unzip_dir\n",
    "        os.makedirs(unzip_path, exist_ok=True)\n",
    "        with zipfile.ZipFile(self.config.local_data_file,'r') as zip_ref:\n",
    "            zip_ref.extractall(unzip_path)"
   ]
  },
  {
   "cell_type": "markdown",
   "metadata": {},
   "source": [
    "## Update the Pipeline"
   ]
  },
  {
   "cell_type": "code",
   "execution_count": 42,
   "metadata": {},
   "outputs": [
    {
     "name": "stdout",
     "output_type": "stream",
     "text": [
      "[2023-12-09 16:14:01,388: INFO: common: yaml file: config\\config.yaml loaded successfully]\n",
      "[2023-12-09 16:14:01,390: INFO: common: yaml file: params.yaml loaded successfully]\n",
      "[2023-12-09 16:14:01,391: INFO: common: Created directory at : artifacts]\n",
      "[2023-12-09 16:14:01,392: INFO: common: Created directory at : artifacts/food_image_classification/data_ingestion]\n",
      "[2023-12-09 16:14:01,393: INFO: 261291339: Downloading data from https://drive.google.com/file/d/1lky7C3LipwPKv46QEjpTVHDTfrxEtXew/view?usp=drive_link into file artifacts/food_image_classification/data_ingestion/data.zip]\n"
     ]
    },
    {
     "name": "stderr",
     "output_type": "stream",
     "text": [
      "Downloading...\n",
      "From (uriginal): https://drive.google.com/uc?/export=download&id=1lky7C3LipwPKv46QEjpTVHDTfrxEtXew\n",
      "From (redirected): https://drive.google.com/uc?/export=download&id=1lky7C3LipwPKv46QEjpTVHDTfrxEtXew&confirm=t&uuid=629b0ab1-c5dd-4c26-bd80-6d82875e12e8\n",
      "To: d:\\Nikku\\End to End Project\\Healthy.ai\\artifacts\\food_image_classification\\data_ingestion\\data.zip\n",
      "100%|██████████| 544M/544M [00:53<00:00, 10.2MB/s] "
     ]
    },
    {
     "name": "stdout",
     "output_type": "stream",
     "text": [
      "[2023-12-09 16:14:56,181: INFO: 261291339: Downloaded data from https://drive.google.com/file/d/1lky7C3LipwPKv46QEjpTVHDTfrxEtXew/view?usp=drive_link into file artifacts/food_image_classification/data_ingestion/data.zip]\n"
     ]
    },
    {
     "name": "stderr",
     "output_type": "stream",
     "text": [
      "\n"
     ]
    }
   ],
   "source": [
    "try:\n",
    "    config = ConfigurationManager()\n",
    "    food_image_data_ingestion = config.get_food_data_ingestion()\n",
    "    food_image_data_ingestion = FoodDataIngestion(config=food_image_data_ingestion)\n",
    "    food_image_data_ingestion.download_data()\n",
    "    food_image_data_ingestion.extract_zip_file()\n",
    "    \n",
    "except Exception as e:\n",
    "    raise e\n"
   ]
  },
  {
   "cell_type": "code",
   "execution_count": null,
   "metadata": {},
   "outputs": [],
   "source": []
  },
  {
   "cell_type": "code",
   "execution_count": null,
   "metadata": {},
   "outputs": [],
   "source": []
  },
  {
   "cell_type": "code",
   "execution_count": null,
   "metadata": {},
   "outputs": [],
   "source": []
  },
  {
   "cell_type": "code",
   "execution_count": null,
   "metadata": {},
   "outputs": [],
   "source": []
  }
 ],
 "metadata": {
  "kernelspec": {
   "display_name": "healthyai",
   "language": "python",
   "name": "python3"
  },
  "language_info": {
   "codemirror_mode": {
    "name": "ipython",
    "version": 3
   },
   "file_extension": ".py",
   "mimetype": "text/x-python",
   "name": "python",
   "nbconvert_exporter": "python",
   "pygments_lexer": "ipython3",
   "version": "3.10.13"
  }
 },
 "nbformat": 4,
 "nbformat_minor": 2
}
